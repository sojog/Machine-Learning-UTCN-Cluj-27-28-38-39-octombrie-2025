{
 "cells": [
  {
   "cell_type": "code",
   "execution_count": 2,
   "id": "13084f91",
   "metadata": {},
   "outputs": [
    {
     "name": "stdout",
     "output_type": "stream",
     "text": [
      "[1, 2, 3, 4, 'hello', True] <class 'list'>\n"
     ]
    }
   ],
   "source": [
    "o_lista = [1, 2, 3, 4, \"hello\", True]\n",
    "print(o_lista, type(o_lista))"
   ]
  },
  {
   "cell_type": "code",
   "execution_count": 3,
   "id": "03890879",
   "metadata": {},
   "outputs": [
    {
     "name": "stdout",
     "output_type": "stream",
     "text": [
      "(1, 2, 3, 4, 'hello', True) <class 'tuple'>\n"
     ]
    }
   ],
   "source": [
    "un_tuplu = (1, 2, 3, 4, \"hello\", True)\n",
    "print(un_tuplu, type(un_tuplu))"
   ]
  },
  {
   "cell_type": "code",
   "execution_count": 4,
   "id": "e4f1d55b",
   "metadata": {},
   "outputs": [
    {
     "data": {
      "text/plain": [
       "6"
      ]
     },
     "execution_count": 4,
     "metadata": {},
     "output_type": "execute_result"
    }
   ],
   "source": [
    "len(o_lista)"
   ]
  },
  {
   "cell_type": "code",
   "execution_count": 5,
   "id": "3f7f041a",
   "metadata": {},
   "outputs": [
    {
     "data": {
      "text/plain": [
       "6"
      ]
     },
     "execution_count": 5,
     "metadata": {},
     "output_type": "execute_result"
    }
   ],
   "source": [
    "len(un_tuplu)"
   ]
  },
  {
   "cell_type": "markdown",
   "id": "bee3b5e9",
   "metadata": {},
   "source": [
    "# Lista este mutabila, tuple este imutabil"
   ]
  },
  {
   "cell_type": "code",
   "execution_count": 6,
   "id": "b5f6559d",
   "metadata": {},
   "outputs": [
    {
     "data": {
      "text/plain": [
       "1"
      ]
     },
     "execution_count": 6,
     "metadata": {},
     "output_type": "execute_result"
    }
   ],
   "source": [
    "o_lista[0]"
   ]
  },
  {
   "cell_type": "code",
   "execution_count": 7,
   "id": "bd8c88e4",
   "metadata": {},
   "outputs": [
    {
     "data": {
      "text/plain": [
       "1"
      ]
     },
     "execution_count": 7,
     "metadata": {},
     "output_type": "execute_result"
    }
   ],
   "source": [
    "un_tuplu[0]"
   ]
  },
  {
   "cell_type": "code",
   "execution_count": 8,
   "id": "ccc95ee4",
   "metadata": {},
   "outputs": [
    {
     "data": {
      "text/plain": [
       "[9999, 2, 3, 4, 'hello', True]"
      ]
     },
     "execution_count": 8,
     "metadata": {},
     "output_type": "execute_result"
    }
   ],
   "source": [
    "o_lista[0] = 9999\n",
    "o_lista"
   ]
  },
  {
   "cell_type": "markdown",
   "id": "93a5a157",
   "metadata": {},
   "source": [
    "# Imutabilitate inseamna ca valorile nu pot fi schimbate"
   ]
  },
  {
   "cell_type": "code",
   "execution_count": 9,
   "id": "03da86a6",
   "metadata": {},
   "outputs": [
    {
     "ename": "TypeError",
     "evalue": "'tuple' object does not support item assignment",
     "output_type": "error",
     "traceback": [
      "\u001b[31m---------------------------------------------------------------------------\u001b[39m",
      "\u001b[31mTypeError\u001b[39m                                 Traceback (most recent call last)",
      "\u001b[36mCell\u001b[39m\u001b[36m \u001b[39m\u001b[32mIn[9]\u001b[39m\u001b[32m, line 1\u001b[39m\n\u001b[32m----> \u001b[39m\u001b[32m1\u001b[39m \u001b[43mun_tuplu\u001b[49m\u001b[43m[\u001b[49m\u001b[32;43m0\u001b[39;49m\u001b[43m]\u001b[49m = \u001b[32m9999\u001b[39m\n\u001b[32m      2\u001b[39m un_tuplu[\u001b[32m0\u001b[39m] = \u001b[32m9999\u001b[39m\n",
      "\u001b[31mTypeError\u001b[39m: 'tuple' object does not support item assignment"
     ]
    }
   ],
   "source": [
    "un_tuplu[0] = 9999\n",
    "un_tuplu[0] = 9999\n"
   ]
  }
 ],
 "metadata": {
  "kernelspec": {
   "display_name": "Python 3",
   "language": "python",
   "name": "python3"
  },
  "language_info": {
   "codemirror_mode": {
    "name": "ipython",
    "version": 3
   },
   "file_extension": ".py",
   "mimetype": "text/x-python",
   "name": "python",
   "nbconvert_exporter": "python",
   "pygments_lexer": "ipython3",
   "version": "3.13.7"
  }
 },
 "nbformat": 4,
 "nbformat_minor": 5
}
