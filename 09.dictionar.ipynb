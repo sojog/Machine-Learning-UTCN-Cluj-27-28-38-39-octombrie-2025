{
 "cells": [
  {
   "cell_type": "code",
   "execution_count": 1,
   "id": "56cbbef0",
   "metadata": {},
   "outputs": [
    {
     "name": "stdout",
     "output_type": "stream",
     "text": [
      "<class 'dict'> {}\n"
     ]
    }
   ],
   "source": [
    "dictionar = {}\n",
    "print(type(dictionar), dictionar)"
   ]
  },
  {
   "cell_type": "code",
   "execution_count": 2,
   "id": "3fd02901",
   "metadata": {},
   "outputs": [
    {
     "name": "stdout",
     "output_type": "stream",
     "text": [
      "<class 'set'> {32, 23}\n"
     ]
    }
   ],
   "source": [
    "dictionar = {23, 32}\n",
    "print(type(dictionar), dictionar)"
   ]
  },
  {
   "cell_type": "code",
   "execution_count": 3,
   "id": "3bebe7ed",
   "metadata": {},
   "outputs": [
    {
     "name": "stdout",
     "output_type": "stream",
     "text": [
      "<class 'dict'> {'cheie1': 23, 'cheie2': 32}\n"
     ]
    }
   ],
   "source": [
    "dictionar = { \"cheie1\": 23, \"cheie2\": 32}\n",
    "print(type(dictionar), dictionar)"
   ]
  },
  {
   "cell_type": "code",
   "execution_count": 5,
   "id": "e2f62e65",
   "metadata": {},
   "outputs": [
    {
     "name": "stdout",
     "output_type": "stream",
     "text": [
      "<class 'dict'> {'cheie1': 23, 'cheie2': 32} lungimea: 2\n"
     ]
    }
   ],
   "source": [
    "dictionar = { \"cheie1\": 23, \"cheie2\": 32}\n",
    "print(type(dictionar), dictionar, \"lungimea:\", len(dictionar))"
   ]
  },
  {
   "cell_type": "markdown",
   "id": "0c23247a",
   "metadata": {},
   "source": [
    "# Dictionarul este mutabil"
   ]
  },
  {
   "cell_type": "code",
   "execution_count": 6,
   "id": "62baa90d",
   "metadata": {},
   "outputs": [
    {
     "data": {
      "text/plain": [
       "{'cheie1': 99999, 'cheie2': 32}"
      ]
     },
     "execution_count": 6,
     "metadata": {},
     "output_type": "execute_result"
    }
   ],
   "source": [
    "dictionar[\"cheie1\"] = 99999\n",
    "dictionar"
   ]
  },
  {
   "cell_type": "markdown",
   "id": "fc6a0723",
   "metadata": {},
   "source": [
    "# Iterare prin dictionar"
   ]
  },
  {
   "cell_type": "code",
   "execution_count": 8,
   "id": "cce2fe1d",
   "metadata": {},
   "outputs": [
    {
     "name": "stdout",
     "output_type": "stream",
     "text": [
      "i= cheie1 <class 'str'> valoarea: 99999\n",
      "i= cheie2 <class 'str'> valoarea: 32\n"
     ]
    }
   ],
   "source": [
    "for i in dictionar:\n",
    "    print(\"i=\", i, type(i), \"valoarea:\", dictionar[i])"
   ]
  },
  {
   "cell_type": "code",
   "execution_count": null,
   "id": "44cfc10f",
   "metadata": {},
   "outputs": [],
   "source": []
  }
 ],
 "metadata": {
  "kernelspec": {
   "display_name": "Python 3",
   "language": "python",
   "name": "python3"
  },
  "language_info": {
   "codemirror_mode": {
    "name": "ipython",
    "version": 3
   },
   "file_extension": ".py",
   "mimetype": "text/x-python",
   "name": "python",
   "nbconvert_exporter": "python",
   "pygments_lexer": "ipython3",
   "version": "3.13.7"
  }
 },
 "nbformat": 4,
 "nbformat_minor": 5
}
