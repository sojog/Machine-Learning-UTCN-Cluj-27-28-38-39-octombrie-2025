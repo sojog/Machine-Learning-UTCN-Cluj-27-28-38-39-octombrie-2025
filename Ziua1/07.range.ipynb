{
 "cells": [
  {
   "cell_type": "code",
   "execution_count": 1,
   "id": "1459c283",
   "metadata": {},
   "outputs": [
    {
     "data": {
      "text/plain": [
       "range(0, 10)"
      ]
     },
     "execution_count": 1,
     "metadata": {},
     "output_type": "execute_result"
    }
   ],
   "source": [
    "range(10)"
   ]
  },
  {
   "cell_type": "code",
   "execution_count": 2,
   "id": "2f2662db",
   "metadata": {},
   "outputs": [
    {
     "data": {
      "text/plain": [
       "[0, 1, 2, 3, 4, 5, 6, 7, 8, 9]"
      ]
     },
     "execution_count": 2,
     "metadata": {},
     "output_type": "execute_result"
    }
   ],
   "source": [
    "list(range(10))"
   ]
  },
  {
   "cell_type": "code",
   "execution_count": 3,
   "id": "05a649bc",
   "metadata": {},
   "outputs": [
    {
     "name": "stdout",
     "output_type": "stream",
     "text": [
      "i= 0\n",
      "i= 1\n",
      "i= 2\n"
     ]
    }
   ],
   "source": [
    "for i in range(3):\n",
    "    print(\"i=\", i)"
   ]
  },
  {
   "cell_type": "code",
   "execution_count": 4,
   "id": "cf86fac7",
   "metadata": {},
   "outputs": [
    {
     "name": "stdout",
     "output_type": "stream",
     "text": [
      "i= 0\n",
      "i= 1\n",
      "i= 2\n",
      "i= 3\n"
     ]
    }
   ],
   "source": [
    "for i in range(4):\n",
    "    print(\"i=\", i)"
   ]
  },
  {
   "cell_type": "code",
   "execution_count": 6,
   "id": "05fe6d39",
   "metadata": {},
   "outputs": [
    {
     "name": "stdout",
     "output_type": "stream",
     "text": [
      "i= 4 <class 'int'>\n",
      "i= 5 <class 'int'>\n",
      "i= 6 <class 'int'>\n",
      "i= 7 <class 'int'>\n"
     ]
    }
   ],
   "source": [
    "for i in range(4, 8):\n",
    "    print(\"i=\", i, type(i))"
   ]
  },
  {
   "cell_type": "code",
   "execution_count": 8,
   "id": "a1226e7c",
   "metadata": {},
   "outputs": [
    {
     "name": "stdout",
     "output_type": "stream",
     "text": [
      "i= 4 <class 'int'>\n",
      "i= 7 <class 'int'>\n",
      "i= 10 <class 'int'>\n",
      "i= 13 <class 'int'>\n",
      "i= 16 <class 'int'>\n",
      "i= 19 <class 'int'>\n"
     ]
    }
   ],
   "source": [
    "for i in range(4, 20, 3):\n",
    "    print(\"i=\", i, type(i))"
   ]
  },
  {
   "cell_type": "code",
   "execution_count": 10,
   "id": "2614d9e2",
   "metadata": {},
   "outputs": [
    {
     "name": "stdout",
     "output_type": "stream",
     "text": [
      "i= 100 <class 'int'>\n",
      "i= 95 <class 'int'>\n",
      "i= 90 <class 'int'>\n",
      "i= 85 <class 'int'>\n",
      "i= 80 <class 'int'>\n",
      "i= 75 <class 'int'>\n",
      "i= 70 <class 'int'>\n",
      "i= 65 <class 'int'>\n",
      "i= 60 <class 'int'>\n",
      "i= 55 <class 'int'>\n",
      "i= 50 <class 'int'>\n",
      "i= 45 <class 'int'>\n",
      "i= 40 <class 'int'>\n",
      "i= 35 <class 'int'>\n",
      "i= 30 <class 'int'>\n",
      "i= 25 <class 'int'>\n"
     ]
    }
   ],
   "source": [
    "for i in range(100, 20, -5):\n",
    "    print(\"i=\", i, type(i))"
   ]
  },
  {
   "cell_type": "code",
   "execution_count": null,
   "id": "58491f77",
   "metadata": {},
   "outputs": [],
   "source": []
  }
 ],
 "metadata": {
  "kernelspec": {
   "display_name": "Python 3",
   "language": "python",
   "name": "python3"
  },
  "language_info": {
   "codemirror_mode": {
    "name": "ipython",
    "version": 3
   },
   "file_extension": ".py",
   "mimetype": "text/x-python",
   "name": "python",
   "nbconvert_exporter": "python",
   "pygments_lexer": "ipython3",
   "version": "3.13.7"
  }
 },
 "nbformat": 4,
 "nbformat_minor": 5
}
