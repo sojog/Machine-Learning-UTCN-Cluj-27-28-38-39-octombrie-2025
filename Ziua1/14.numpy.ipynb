{
 "cells": [
  {
   "cell_type": "code",
   "execution_count": 1,
   "id": "57817c88",
   "metadata": {},
   "outputs": [],
   "source": [
    "import numpy as np"
   ]
  },
  {
   "cell_type": "code",
   "execution_count": 2,
   "id": "d6417883",
   "metadata": {},
   "outputs": [
    {
     "data": {
      "text/plain": [
       "'\\nNumPy\\n=====\\n\\nProvides\\n  1. An array object of arbitrary homogeneous items\\n  2. Fast mathematical operations over arrays\\n  3. Linear Algebra, Fourier Transforms, Random Number Generation\\n\\nHow to use the documentation\\n----------------------------\\nDocumentation is available in two forms: docstrings provided\\nwith the code, and a loose standing reference guide, available from\\n`the NumPy homepage <https://numpy.org>`_.\\n\\nWe recommend exploring the docstrings using\\n`IPython <https://ipython.org>`_, an advanced Python shell with\\nTAB-completion and introspection capabilities.  See below for further\\ninstructions.\\n\\nThe docstring examples assume that `numpy` has been imported as ``np``::\\n\\n  >>> import numpy as np\\n\\nCode snippets are indicated by three greater-than signs::\\n\\n  >>> x = 42\\n  >>> x = x + 1\\n\\nUse the built-in ``help`` function to view a function\\'s docstring::\\n\\n  >>> help(np.sort)\\n  ... # doctest: +SKIP\\n\\nFor some objects, ``np.info(obj)`` may provide additional help.  This is\\nparticularly true if you see the line \"Help on ufunc object:\" at the top\\nof the help() page.  Ufuncs are implemented in C, not Python, for speed.\\nThe native Python help() does not know how to view their help, but our\\nnp.info() function does.\\n\\nAvailable subpackages\\n---------------------\\nlib\\n    Basic functions used by several sub-packages.\\nrandom\\n    Core Random Tools\\nlinalg\\n    Core Linear Algebra Tools\\nfft\\n    Core FFT routines\\npolynomial\\n    Polynomial tools\\ntesting\\n    NumPy testing tools\\ndistutils\\n    Enhancements to distutils with support for\\n    Fortran compilers support and more (for Python <= 3.11)\\n\\nUtilities\\n---------\\ntest\\n    Run numpy unittests\\nshow_config\\n    Show numpy build configuration\\n__version__\\n    NumPy version string\\n\\nViewing documentation using IPython\\n-----------------------------------\\n\\nStart IPython and import `numpy` usually under the alias ``np``: `import\\nnumpy as np`.  Then, directly past or use the ``%cpaste`` magic to paste\\nexamples into the shell.  To see which functions are available in `numpy`,\\ntype ``np.<TAB>`` (where ``<TAB>`` refers to the TAB key), or use\\n``np.*cos*?<ENTER>`` (where ``<ENTER>`` refers to the ENTER key) to narrow\\ndown the list.  To view the docstring for a function, use\\n``np.cos?<ENTER>`` (to view the docstring) and ``np.cos??<ENTER>`` (to view\\nthe source code).\\n\\nCopies vs. in-place operation\\n-----------------------------\\nMost of the functions in `numpy` return a copy of the array argument\\n(e.g., `np.sort`).  In-place versions of these functions are often\\navailable as array methods, i.e. ``x = np.array([1,2,3]); x.sort()``.\\nExceptions to this rule are documented.\\n\\n'"
      ]
     },
     "execution_count": 2,
     "metadata": {},
     "output_type": "execute_result"
    }
   ],
   "source": [
    "np.__doc__"
   ]
  },
  {
   "cell_type": "code",
   "execution_count": 3,
   "id": "41a45e6e",
   "metadata": {},
   "outputs": [
    {
     "name": "stdout",
     "output_type": "stream",
     "text": [
      "\n",
      "NumPy\n",
      "=====\n",
      "\n",
      "Provides\n",
      "  1. An array object of arbitrary homogeneous items\n",
      "  2. Fast mathematical operations over arrays\n",
      "  3. Linear Algebra, Fourier Transforms, Random Number Generation\n",
      "\n",
      "How to use the documentation\n",
      "----------------------------\n",
      "Documentation is available in two forms: docstrings provided\n",
      "with the code, and a loose standing reference guide, available from\n",
      "`the NumPy homepage <https://numpy.org>`_.\n",
      "\n",
      "We recommend exploring the docstrings using\n",
      "`IPython <https://ipython.org>`_, an advanced Python shell with\n",
      "TAB-completion and introspection capabilities.  See below for further\n",
      "instructions.\n",
      "\n",
      "The docstring examples assume that `numpy` has been imported as ``np``::\n",
      "\n",
      "  >>> import numpy as np\n",
      "\n",
      "Code snippets are indicated by three greater-than signs::\n",
      "\n",
      "  >>> x = 42\n",
      "  >>> x = x + 1\n",
      "\n",
      "Use the built-in ``help`` function to view a function's docstring::\n",
      "\n",
      "  >>> help(np.sort)\n",
      "  ... # doctest: +SKIP\n",
      "\n",
      "For some objects, ``np.info(obj)`` may provide additional help.  This is\n",
      "particularly true if you see the line \"Help on ufunc object:\" at the top\n",
      "of the help() page.  Ufuncs are implemented in C, not Python, for speed.\n",
      "The native Python help() does not know how to view their help, but our\n",
      "np.info() function does.\n",
      "\n",
      "Available subpackages\n",
      "---------------------\n",
      "lib\n",
      "    Basic functions used by several sub-packages.\n",
      "random\n",
      "    Core Random Tools\n",
      "linalg\n",
      "    Core Linear Algebra Tools\n",
      "fft\n",
      "    Core FFT routines\n",
      "polynomial\n",
      "    Polynomial tools\n",
      "testing\n",
      "    NumPy testing tools\n",
      "distutils\n",
      "    Enhancements to distutils with support for\n",
      "    Fortran compilers support and more (for Python <= 3.11)\n",
      "\n",
      "Utilities\n",
      "---------\n",
      "test\n",
      "    Run numpy unittests\n",
      "show_config\n",
      "    Show numpy build configuration\n",
      "__version__\n",
      "    NumPy version string\n",
      "\n",
      "Viewing documentation using IPython\n",
      "-----------------------------------\n",
      "\n",
      "Start IPython and import `numpy` usually under the alias ``np``: `import\n",
      "numpy as np`.  Then, directly past or use the ``%cpaste`` magic to paste\n",
      "examples into the shell.  To see which functions are available in `numpy`,\n",
      "type ``np.<TAB>`` (where ``<TAB>`` refers to the TAB key), or use\n",
      "``np.*cos*?<ENTER>`` (where ``<ENTER>`` refers to the ENTER key) to narrow\n",
      "down the list.  To view the docstring for a function, use\n",
      "``np.cos?<ENTER>`` (to view the docstring) and ``np.cos??<ENTER>`` (to view\n",
      "the source code).\n",
      "\n",
      "Copies vs. in-place operation\n",
      "-----------------------------\n",
      "Most of the functions in `numpy` return a copy of the array argument\n",
      "(e.g., `np.sort`).  In-place versions of these functions are often\n",
      "available as array methods, i.e. ``x = np.array([1,2,3]); x.sort()``.\n",
      "Exceptions to this rule are documented.\n",
      "\n",
      "\n"
     ]
    }
   ],
   "source": [
    "print(np.__doc__)"
   ]
  },
  {
   "cell_type": "code",
   "execution_count": 5,
   "id": "f5f2d271",
   "metadata": {},
   "outputs": [
    {
     "data": {
      "text/plain": [
       "array([ 1,  3,  4, 52, 32])"
      ]
     },
     "execution_count": 5,
     "metadata": {},
     "output_type": "execute_result"
    }
   ],
   "source": [
    "#  An array object of arbitrary homogeneous items\n",
    "\n",
    "o_lista = [ 1, 3, 4, 52, 32]\n",
    "array = np.array(o_lista)   \n",
    "array"
   ]
  },
  {
   "cell_type": "markdown",
   "id": "c51130f8",
   "metadata": {},
   "source": [
    "# Toate date sunt de acelasi tip - le forteaza"
   ]
  },
  {
   "cell_type": "code",
   "execution_count": 12,
   "id": "ef4af613",
   "metadata": {},
   "outputs": [
    {
     "data": {
      "text/plain": [
       "(array([ 1,  3,  4, 52, 32]), dtype('int64'))"
      ]
     },
     "execution_count": 12,
     "metadata": {},
     "output_type": "execute_result"
    }
   ],
   "source": [
    "o_lista = [ 1, 3, 4, 52, 32]\n",
    "array = np.array(o_lista)   \n",
    "array, array.dtype"
   ]
  },
  {
   "cell_type": "code",
   "execution_count": 10,
   "id": "35d78171",
   "metadata": {},
   "outputs": [
    {
     "data": {
      "text/plain": [
       "(array([ 1. ,  3. ,  4. , 52. , 32. , 32.3]), dtype('float64'))"
      ]
     },
     "execution_count": 10,
     "metadata": {},
     "output_type": "execute_result"
    }
   ],
   "source": [
    "o_lista = [ 1, 3, 4, 52, 32, 32.3]\n",
    "array = np.array(o_lista)   \n",
    "array, array.dtype"
   ]
  },
  {
   "cell_type": "code",
   "execution_count": 11,
   "id": "b852e1a4",
   "metadata": {},
   "outputs": [
    {
     "data": {
      "text/plain": [
       "(array(['1', '3', '4', '52', '32', '32.3', 'hello'], dtype='<U32'),\n",
       " dtype('<U32'))"
      ]
     },
     "execution_count": 11,
     "metadata": {},
     "output_type": "execute_result"
    }
   ],
   "source": [
    "o_lista = [ 1, 3, 4, 52, 32, 32.3, \"hello\"]\n",
    "array = np.array(o_lista)   \n",
    "array, array.dtype"
   ]
  },
  {
   "cell_type": "code",
   "execution_count": 9,
   "id": "dfe1715f",
   "metadata": {},
   "outputs": [
    {
     "data": {
      "text/plain": [
       "dtype('<U32')"
      ]
     },
     "execution_count": 9,
     "metadata": {},
     "output_type": "execute_result"
    }
   ],
   "source": [
    "o_lista = [ 1, 3, 4, 52, 32, 32.3, \"hello\"]\n",
    "array = np.array(o_lista)   \n",
    "array.dtype"
   ]
  },
  {
   "cell_type": "code",
   "execution_count": 13,
   "id": "3257355c",
   "metadata": {},
   "outputs": [
    {
     "ename": "ValueError",
     "evalue": "setting an array element with a sequence. The requested array has an inhomogeneous shape after 1 dimensions. The detected shape was (8,) + inhomogeneous part.",
     "output_type": "error",
     "traceback": [
      "\u001b[31m---------------------------------------------------------------------------\u001b[39m",
      "\u001b[31mValueError\u001b[39m                                Traceback (most recent call last)",
      "\u001b[36mCell\u001b[39m\u001b[36m \u001b[39m\u001b[32mIn[13]\u001b[39m\u001b[32m, line 2\u001b[39m\n\u001b[32m      1\u001b[39m o_lista = [ \u001b[32m1\u001b[39m, \u001b[32m3\u001b[39m, \u001b[32m4\u001b[39m, \u001b[32m52\u001b[39m, \u001b[32m32\u001b[39m, \u001b[32m32.3\u001b[39m, \u001b[33m\"\u001b[39m\u001b[33mhello\u001b[39m\u001b[33m\"\u001b[39m, [\u001b[32m320\u001b[39m,\u001b[32m32\u001b[39m]]\n\u001b[32m----> \u001b[39m\u001b[32m2\u001b[39m array = \u001b[43mnp\u001b[49m\u001b[43m.\u001b[49m\u001b[43marray\u001b[49m\u001b[43m(\u001b[49m\u001b[43mo_lista\u001b[49m\u001b[43m)\u001b[49m   \n\u001b[32m      3\u001b[39m array.dtype\n",
      "\u001b[31mValueError\u001b[39m: setting an array element with a sequence. The requested array has an inhomogeneous shape after 1 dimensions. The detected shape was (8,) + inhomogeneous part."
     ]
    }
   ],
   "source": [
    "o_lista = [ 1, 3, 4, 52, 32, 32.3, \"hello\", [320,32]]\n",
    "array = np.array(o_lista)   \n",
    "array.dtype"
   ]
  },
  {
   "cell_type": "code",
   "execution_count": 18,
   "id": "9f7698d9",
   "metadata": {},
   "outputs": [
    {
     "data": {
      "text/plain": [
       "(array([[320,  32, 320],\n",
       "        [ 32,  43,  32]]),\n",
       " dtype('int64'),\n",
       " (2, 3))"
      ]
     },
     "execution_count": 18,
     "metadata": {},
     "output_type": "execute_result"
    }
   ],
   "source": [
    "o_lista = [ [320,32, 320], [32, 43, 32]]\n",
    "array = np.array(o_lista)   \n",
    "array, array.dtype, array.shape"
   ]
  },
  {
   "cell_type": "code",
   "execution_count": 20,
   "id": "03c77559",
   "metadata": {},
   "outputs": [
    {
     "data": {
      "text/plain": [
       "(array([ 1,  3,  4, 52, 32], dtype=int8), dtype('int8'))"
      ]
     },
     "execution_count": 20,
     "metadata": {},
     "output_type": "execute_result"
    }
   ],
   "source": [
    "o_lista = [ 1, 3, 4, 52, 32]\n",
    "array = np.array(o_lista, dtype=np.int8)\n",
    "array, array.dtype "
   ]
  },
  {
   "cell_type": "markdown",
   "id": "c03f23e7",
   "metadata": {},
   "source": [
    "## Reprezentarea numerelor in binar"
   ]
  },
  {
   "cell_type": "code",
   "execution_count": 21,
   "id": "ea439cca",
   "metadata": {},
   "outputs": [
    {
     "name": "stdout",
     "output_type": "stream",
     "text": [
      "bin(0)=0b0\n",
      "bin(1)=0b1\n",
      "bin(2)=0b10\n",
      "bin(3)=0b11\n",
      "bin(4)=0b100\n",
      "bin(5)=0b101\n",
      "bin(6)=0b110\n",
      "bin(7)=0b111\n",
      "bin(8)=0b1000\n",
      "bin(9)=0b1001\n"
     ]
    }
   ],
   "source": [
    "for i in range(10):\n",
    "    print(f\"bin({i})={bin(i)}\")\n"
   ]
  },
  {
   "cell_type": "code",
   "execution_count": 23,
   "id": "05f5a0bd",
   "metadata": {},
   "outputs": [
    {
     "data": {
      "text/plain": [
       "'0b1000000'"
      ]
     },
     "execution_count": 23,
     "metadata": {},
     "output_type": "execute_result"
    }
   ],
   "source": [
    "bin(2 ** 6)"
   ]
  },
  {
   "cell_type": "code",
   "execution_count": 24,
   "id": "6428d15b",
   "metadata": {},
   "outputs": [
    {
     "data": {
      "text/plain": [
       "'0b100000000'"
      ]
     },
     "execution_count": 24,
     "metadata": {},
     "output_type": "execute_result"
    }
   ],
   "source": [
    "bin(2 ** 8)"
   ]
  },
  {
   "cell_type": "code",
   "execution_count": 25,
   "id": "ded60d7c",
   "metadata": {},
   "outputs": [
    {
     "data": {
      "text/plain": [
       "'0b11111111'"
      ]
     },
     "execution_count": 25,
     "metadata": {},
     "output_type": "execute_result"
    }
   ],
   "source": [
    "bin(2 ** 8 - 1) "
   ]
  },
  {
   "cell_type": "code",
   "execution_count": 26,
   "id": "2df8cc9b",
   "metadata": {},
   "outputs": [
    {
     "data": {
      "text/plain": [
       "256"
      ]
     },
     "execution_count": 26,
     "metadata": {},
     "output_type": "execute_result"
    }
   ],
   "source": [
    "2 ** 8"
   ]
  },
  {
   "cell_type": "markdown",
   "id": "ed4427e8",
   "metadata": {},
   "source": [
    "# Maximul de reprezentare pe 0..8 bits este 255 (doar pe pozitiv)"
   ]
  },
  {
   "cell_type": "code",
   "execution_count": 28,
   "id": "c17eb55a",
   "metadata": {},
   "outputs": [
    {
     "data": {
      "text/plain": [
       "(array([  1,   3,   4,  52,  32, 255], dtype=uint8), dtype('uint8'))"
      ]
     },
     "execution_count": 28,
     "metadata": {},
     "output_type": "execute_result"
    }
   ],
   "source": [
    "o_lista = [ 1, 3, 4, 52, 32, 255]\n",
    "array = np.array(o_lista, dtype=np.uint8)\n",
    "array, array.dtype "
   ]
  },
  {
   "cell_type": "code",
   "execution_count": 29,
   "id": "b1c5d05e",
   "metadata": {},
   "outputs": [
    {
     "ename": "OverflowError",
     "evalue": "Python integer 256 out of bounds for uint8",
     "output_type": "error",
     "traceback": [
      "\u001b[31m---------------------------------------------------------------------------\u001b[39m",
      "\u001b[31mOverflowError\u001b[39m                             Traceback (most recent call last)",
      "\u001b[36mCell\u001b[39m\u001b[36m \u001b[39m\u001b[32mIn[29]\u001b[39m\u001b[32m, line 2\u001b[39m\n\u001b[32m      1\u001b[39m o_lista = [ \u001b[32m1\u001b[39m, \u001b[32m3\u001b[39m, \u001b[32m4\u001b[39m, \u001b[32m52\u001b[39m, \u001b[32m32\u001b[39m, \u001b[32m256\u001b[39m]\n\u001b[32m----> \u001b[39m\u001b[32m2\u001b[39m array = \u001b[43mnp\u001b[49m\u001b[43m.\u001b[49m\u001b[43marray\u001b[49m\u001b[43m(\u001b[49m\u001b[43mo_lista\u001b[49m\u001b[43m,\u001b[49m\u001b[43m \u001b[49m\u001b[43mdtype\u001b[49m\u001b[43m=\u001b[49m\u001b[43mnp\u001b[49m\u001b[43m.\u001b[49m\u001b[43muint8\u001b[49m\u001b[43m)\u001b[49m\n\u001b[32m      3\u001b[39m array, array.dtype \n",
      "\u001b[31mOverflowError\u001b[39m: Python integer 256 out of bounds for uint8"
     ]
    }
   ],
   "source": [
    "o_lista = [ 1, 3, 4, 52, 32, 256]\n",
    "array = np.array(o_lista, dtype=np.uint8)\n",
    "array, array.dtype "
   ]
  },
  {
   "cell_type": "markdown",
   "id": "71ecb81a",
   "metadata": {},
   "source": [
    "# Maximul de reprezentare pe 0..8 bits este 255. (-128 pana la 127)     "
   ]
  },
  {
   "cell_type": "code",
   "execution_count": 31,
   "id": "447c2b04",
   "metadata": {},
   "outputs": [
    {
     "data": {
      "text/plain": [
       "(array([  1,   3,   4,  52,  32, 127], dtype=int8), dtype('int8'))"
      ]
     },
     "execution_count": 31,
     "metadata": {},
     "output_type": "execute_result"
    }
   ],
   "source": [
    "o_lista = [ 1, 3, 4, 52, 32, 127]\n",
    "array = np.array(o_lista, dtype=np.int8)\n",
    "array, array.dtype \n"
   ]
  },
  {
   "cell_type": "code",
   "execution_count": 33,
   "id": "96cd715e",
   "metadata": {},
   "outputs": [
    {
     "data": {
      "text/plain": [
       "(array([   1,    3,    4,   52,   32, -128], dtype=int8), dtype('int8'))"
      ]
     },
     "execution_count": 33,
     "metadata": {},
     "output_type": "execute_result"
    }
   ],
   "source": [
    "o_lista = [ 1, 3, 4, 52, 32, -128]\n",
    "array = np.array(o_lista, dtype=np.int8)\n",
    "array, array.dtype "
   ]
  },
  {
   "cell_type": "code",
   "execution_count": 34,
   "id": "024744d7",
   "metadata": {},
   "outputs": [
    {
     "ename": "OverflowError",
     "evalue": "Python integer -129 out of bounds for int8",
     "output_type": "error",
     "traceback": [
      "\u001b[31m---------------------------------------------------------------------------\u001b[39m",
      "\u001b[31mOverflowError\u001b[39m                             Traceback (most recent call last)",
      "\u001b[36mCell\u001b[39m\u001b[36m \u001b[39m\u001b[32mIn[34]\u001b[39m\u001b[32m, line 2\u001b[39m\n\u001b[32m      1\u001b[39m o_lista = [ \u001b[32m1\u001b[39m, \u001b[32m3\u001b[39m, \u001b[32m4\u001b[39m, \u001b[32m52\u001b[39m, \u001b[32m32\u001b[39m, -\u001b[32m129\u001b[39m]\n\u001b[32m----> \u001b[39m\u001b[32m2\u001b[39m array = \u001b[43mnp\u001b[49m\u001b[43m.\u001b[49m\u001b[43marray\u001b[49m\u001b[43m(\u001b[49m\u001b[43mo_lista\u001b[49m\u001b[43m,\u001b[49m\u001b[43m \u001b[49m\u001b[43mdtype\u001b[49m\u001b[43m=\u001b[49m\u001b[43mnp\u001b[49m\u001b[43m.\u001b[49m\u001b[43mint8\u001b[49m\u001b[43m)\u001b[49m\n\u001b[32m      3\u001b[39m array, array.dtype \n",
      "\u001b[31mOverflowError\u001b[39m: Python integer -129 out of bounds for int8"
     ]
    }
   ],
   "source": [
    "o_lista = [ 1, 3, 4, 52, 32, -129]\n",
    "array = np.array(o_lista, dtype=np.int8)\n",
    "array, array.dtype "
   ]
  },
  {
   "cell_type": "markdown",
   "id": "d8c144f9",
   "metadata": {},
   "source": [
    "# Numpy - operatii matematice rapide "
   ]
  },
  {
   "cell_type": "code",
   "execution_count": 35,
   "id": "86b43a39",
   "metadata": {},
   "outputs": [
    {
     "data": {
      "text/plain": [
       "array([2, 3, 9])"
      ]
     },
     "execution_count": 35,
     "metadata": {},
     "output_type": "execute_result"
    }
   ],
   "source": [
    "a = np.array([2, 3, 9])\n",
    "a"
   ]
  },
  {
   "cell_type": "code",
   "execution_count": 36,
   "id": "d003f729",
   "metadata": {},
   "outputs": [
    {
     "data": {
      "text/plain": [
       "array([102, 103, 109])"
      ]
     },
     "execution_count": 36,
     "metadata": {},
     "output_type": "execute_result"
    }
   ],
   "source": [
    "a + 100"
   ]
  },
  {
   "cell_type": "code",
   "execution_count": 37,
   "id": "3de246e8",
   "metadata": {},
   "outputs": [
    {
     "ename": "TypeError",
     "evalue": "can only concatenate list (not \"int\") to list",
     "output_type": "error",
     "traceback": [
      "\u001b[31m---------------------------------------------------------------------------\u001b[39m",
      "\u001b[31mTypeError\u001b[39m                                 Traceback (most recent call last)",
      "\u001b[36mCell\u001b[39m\u001b[36m \u001b[39m\u001b[32mIn[37]\u001b[39m\u001b[32m, line 1\u001b[39m\n\u001b[32m----> \u001b[39m\u001b[32m1\u001b[39m \u001b[43m[\u001b[49m\u001b[32;43m2\u001b[39;49m\u001b[43m,\u001b[49m\u001b[43m \u001b[49m\u001b[32;43m3\u001b[39;49m\u001b[43m,\u001b[49m\u001b[43m \u001b[49m\u001b[32;43m9\u001b[39;49m\u001b[43m]\u001b[49m\u001b[43m \u001b[49m\u001b[43m+\u001b[49m\u001b[43m \u001b[49m\u001b[32;43m100\u001b[39;49m\n",
      "\u001b[31mTypeError\u001b[39m: can only concatenate list (not \"int\") to list"
     ]
    }
   ],
   "source": [
    "[2, 3, 9] + 100"
   ]
  },
  {
   "cell_type": "markdown",
   "id": "f0edb5bd",
   "metadata": {},
   "source": [
    "# Concatenare a 2 lista"
   ]
  },
  {
   "cell_type": "code",
   "execution_count": 38,
   "id": "8486bbf7",
   "metadata": {},
   "outputs": [
    {
     "data": {
      "text/plain": [
       "[2, 3, 9, 100]"
      ]
     },
     "execution_count": 38,
     "metadata": {},
     "output_type": "execute_result"
    }
   ],
   "source": [
    "[2, 3, 9] + [100]"
   ]
  },
  {
   "cell_type": "markdown",
   "id": "50b7362a",
   "metadata": {},
   "source": [
    "# Calcul clasic"
   ]
  },
  {
   "cell_type": "code",
   "execution_count": 39,
   "id": "0c9daae1",
   "metadata": {},
   "outputs": [
    {
     "data": {
      "text/plain": [
       "[102, 103, 109]"
      ]
     },
     "execution_count": 39,
     "metadata": {},
     "output_type": "execute_result"
    }
   ],
   "source": [
    "o_lista = [2, 3, 9]\n",
    "for i in range(len(o_lista)):\n",
    "    o_lista[i] = o_lista[i] + 100\n",
    "\n",
    "o_lista\n"
   ]
  },
  {
   "cell_type": "markdown",
   "id": "72cfeb55",
   "metadata": {},
   "source": [
    "# List comprehention"
   ]
  },
  {
   "cell_type": "code",
   "execution_count": 41,
   "id": "83a59491",
   "metadata": {},
   "outputs": [
    {
     "data": {
      "text/plain": [
       "[102, 103, 109]"
      ]
     },
     "execution_count": 41,
     "metadata": {},
     "output_type": "execute_result"
    }
   ],
   "source": [
    "o_lista = [2, 3, 9]\n",
    "o_noua_lista = [ o_lista[i] + 100  for i in range(len(o_lista))  ]\n",
    "o_noua_lista"
   ]
  },
  {
   "cell_type": "markdown",
   "id": "bb94a8c8",
   "metadata": {},
   "source": [
    "# Programare functionala"
   ]
  },
  {
   "cell_type": "code",
   "execution_count": 40,
   "id": "9c7fd3bb",
   "metadata": {},
   "outputs": [
    {
     "name": "stdout",
     "output_type": "stream",
     "text": [
      "[102, 103, 109]\n"
     ]
    }
   ],
   "source": [
    "def aduna_100(x):\n",
    "    return x + 100\n",
    "\n",
    "\n",
    "o_lista = [2, 3, 9]\n",
    "print(list(map(aduna_100, o_lista)))\n"
   ]
  },
  {
   "cell_type": "markdown",
   "id": "0659d902",
   "metadata": {},
   "source": [
    "# Numpy - operatii matematice rapide "
   ]
  },
  {
   "cell_type": "code",
   "execution_count": 42,
   "id": "fc8cdbf5",
   "metadata": {},
   "outputs": [
    {
     "data": {
      "text/plain": [
       "array([321, 412,  10,  32])"
      ]
     },
     "execution_count": 42,
     "metadata": {},
     "output_type": "execute_result"
    }
   ],
   "source": [
    "array = np.array([321, 412, 10, 32])\n",
    "array "
   ]
  },
  {
   "cell_type": "code",
   "execution_count": 43,
   "id": "4d198919",
   "metadata": {},
   "outputs": [
    {
     "data": {
      "text/plain": [
       "array([13.95652174, 17.91304348,  0.43478261,  1.39130435])"
      ]
     },
     "execution_count": 43,
     "metadata": {},
     "output_type": "execute_result"
    }
   ],
   "source": [
    "array / 23 "
   ]
  },
  {
   "cell_type": "code",
   "execution_count": 44,
   "id": "42d52103",
   "metadata": {},
   "outputs": [
    {
     "data": {
      "text/plain": [
       "array([642, 824,  20,  64])"
      ]
     },
     "execution_count": 44,
     "metadata": {},
     "output_type": "execute_result"
    }
   ],
   "source": [
    "array + array"
   ]
  },
  {
   "cell_type": "code",
   "execution_count": 45,
   "id": "5a765b3e",
   "metadata": {},
   "outputs": [
    {
     "data": {
      "text/plain": [
       "array([0, 0, 0, 0])"
      ]
     },
     "execution_count": 45,
     "metadata": {},
     "output_type": "execute_result"
    }
   ],
   "source": [
    "array - array"
   ]
  },
  {
   "cell_type": "markdown",
   "id": "2b814816",
   "metadata": {},
   "source": [
    "## Generare de numere random"
   ]
  },
  {
   "cell_type": "code",
   "execution_count": 46,
   "id": "0dc1bb72",
   "metadata": {},
   "outputs": [
    {
     "data": {
      "text/plain": [
       "array([0.57046346, 0.55677752, 0.97265196, 0.15829468, 0.60583457])"
      ]
     },
     "execution_count": 46,
     "metadata": {},
     "output_type": "execute_result"
    }
   ],
   "source": [
    "np.random.random(5)"
   ]
  },
  {
   "cell_type": "code",
   "execution_count": 56,
   "id": "81d7b980",
   "metadata": {},
   "outputs": [
    {
     "data": {
      "text/plain": [
       "9"
      ]
     },
     "execution_count": 56,
     "metadata": {},
     "output_type": "execute_result"
    }
   ],
   "source": [
    "np.random.randint(0, 10)"
   ]
  },
  {
   "cell_type": "code",
   "execution_count": 57,
   "id": "068cdf09",
   "metadata": {},
   "outputs": [
    {
     "data": {
      "text/plain": [
       "array([2, 4, 0, 5, 2])"
      ]
     },
     "execution_count": 57,
     "metadata": {},
     "output_type": "execute_result"
    }
   ],
   "source": [
    "np.random.randint(0, 10, 5)"
   ]
  },
  {
   "cell_type": "code",
   "execution_count": 58,
   "id": "98128cc6",
   "metadata": {},
   "outputs": [
    {
     "data": {
      "text/plain": [
       "array([6, 2, 1, 0, 6, 7, 1, 3, 8, 7, 6, 0, 2, 8, 1, 6, 6, 0, 8, 6, 6, 3,\n",
       "       8, 1, 6])"
      ]
     },
     "execution_count": 58,
     "metadata": {},
     "output_type": "execute_result"
    }
   ],
   "source": [
    "np.random.randint(0, 10, 25)"
   ]
  },
  {
   "cell_type": "code",
   "execution_count": 59,
   "id": "aa4aa330",
   "metadata": {},
   "outputs": [
    {
     "data": {
      "text/plain": [
       "array([1, 2, 2, 1, 5, 7, 8, 9, 1, 0, 4, 9, 6, 8, 3, 9, 4, 0, 7, 8, 1, 8,\n",
       "       6, 8, 4])"
      ]
     },
     "execution_count": 59,
     "metadata": {},
     "output_type": "execute_result"
    }
   ],
   "source": [
    "array = np.random.randint(0, 10, 25)\n",
    "array"
   ]
  },
  {
   "cell_type": "code",
   "execution_count": 60,
   "id": "eb1b9138",
   "metadata": {},
   "outputs": [
    {
     "data": {
      "text/plain": [
       "array([False, False, False, False, False,  True,  True,  True, False,\n",
       "       False, False,  True,  True,  True, False,  True, False, False,\n",
       "        True,  True, False,  True,  True,  True, False])"
      ]
     },
     "execution_count": 60,
     "metadata": {},
     "output_type": "execute_result"
    }
   ],
   "source": [
    "array > 5"
   ]
  },
  {
   "cell_type": "code",
   "execution_count": 61,
   "id": "c9fc99fd",
   "metadata": {},
   "outputs": [
    {
     "data": {
      "text/plain": [
       "array([False,  True,  True, False, False, False,  True, False, False,\n",
       "        True,  True, False,  True,  True, False, False,  True,  True,\n",
       "       False,  True, False,  True,  True,  True,  True])"
      ]
     },
     "execution_count": 61,
     "metadata": {},
     "output_type": "execute_result"
    }
   ],
   "source": [
    "array % 2 == 0"
   ]
  },
  {
   "cell_type": "markdown",
   "id": "9ac46c18",
   "metadata": {},
   "source": [
    "# Filtrarea elementelor"
   ]
  },
  {
   "cell_type": "code",
   "execution_count": 62,
   "id": "44502066",
   "metadata": {},
   "outputs": [
    {
     "data": {
      "text/plain": [
       "array([7, 8, 9, 9, 6, 8, 9, 7, 8, 8, 6, 8])"
      ]
     },
     "execution_count": 62,
     "metadata": {},
     "output_type": "execute_result"
    }
   ],
   "source": [
    "array [array > 5]"
   ]
  },
  {
   "cell_type": "code",
   "execution_count": 63,
   "id": "9ed40a6a",
   "metadata": {},
   "outputs": [
    {
     "data": {
      "text/plain": [
       "array([2, 2, 8, 0, 4, 6, 8, 4, 0, 8, 8, 6, 8, 4])"
      ]
     },
     "execution_count": 63,
     "metadata": {},
     "output_type": "execute_result"
    }
   ],
   "source": [
    "array[array % 2 == 0]"
   ]
  },
  {
   "cell_type": "markdown",
   "id": "64be5da1",
   "metadata": {},
   "source": [
    "## "
   ]
  }
 ],
 "metadata": {
  "kernelspec": {
   "display_name": "Python 3",
   "language": "python",
   "name": "python3"
  },
  "language_info": {
   "codemirror_mode": {
    "name": "ipython",
    "version": 3
   },
   "file_extension": ".py",
   "mimetype": "text/x-python",
   "name": "python",
   "nbconvert_exporter": "python",
   "pygments_lexer": "ipython3",
   "version": "3.13.7"
  }
 },
 "nbformat": 4,
 "nbformat_minor": 5
}
