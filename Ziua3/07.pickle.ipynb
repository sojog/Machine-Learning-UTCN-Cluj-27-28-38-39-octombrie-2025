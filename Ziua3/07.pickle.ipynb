{
 "cells": [
  {
   "cell_type": "code",
   "execution_count": 8,
   "id": "bbd5a828",
   "metadata": {},
   "outputs": [],
   "source": [
    "import pickle"
   ]
  },
  {
   "cell_type": "code",
   "execution_count": 1,
   "id": "c6ddea5f",
   "metadata": {},
   "outputs": [],
   "source": [
    "class Student:\n",
    "    def __init__(self, name):\n",
    "        self.name = name\n",
    "    def __str__(self):\n",
    "        return f\"Studentul cu numele: {self.name}\""
   ]
  },
  {
   "cell_type": "code",
   "execution_count": 4,
   "id": "31eb9c10",
   "metadata": {},
   "outputs": [
    {
     "name": "stdout",
     "output_type": "stream",
     "text": [
      "Studentul cu numele: Ion\n"
     ]
    }
   ],
   "source": [
    "obiect = Student(\"Ion\")\n",
    "print(obiect)"
   ]
  },
  {
   "cell_type": "markdown",
   "id": "10d4ec9b",
   "metadata": {},
   "source": [
    "# Scrierea unui fisier text"
   ]
  },
  {
   "cell_type": "code",
   "execution_count": 13,
   "id": "3dea8804",
   "metadata": {},
   "outputs": [],
   "source": [
    "with open(\"fisier_text.txt\", \"w\") as file_writer:\n",
    "    file_writer.write(\" Florin \")"
   ]
  },
  {
   "cell_type": "markdown",
   "id": "e2a81cc1",
   "metadata": {},
   "source": [
    "# Scrierea unui fisier binar"
   ]
  },
  {
   "cell_type": "code",
   "execution_count": 10,
   "id": "24a3f43b",
   "metadata": {},
   "outputs": [],
   "source": [
    "# wb - write binary\n",
    "with open(\"fisier_binar.pkl\", \"wb\") as file_writer:\n",
    "    pickle.dump(obiect, file_writer)\n"
   ]
  },
  {
   "cell_type": "markdown",
   "id": "db51340d",
   "metadata": {},
   "source": [
    "# Citire din fisier text"
   ]
  },
  {
   "cell_type": "code",
   "execution_count": 14,
   "id": "10d15726",
   "metadata": {},
   "outputs": [
    {
     "name": "stdout",
     "output_type": "stream",
     "text": [
      " Florin \n"
     ]
    }
   ],
   "source": [
    "with open(\"fisier_text.txt\", \"r\") as file_reader:\n",
    "    text = file_reader.read()\n",
    "    print(text)"
   ]
  },
  {
   "cell_type": "markdown",
   "id": "32bd65c1",
   "metadata": {},
   "source": [
    "# Citire din fisier binar"
   ]
  },
  {
   "cell_type": "code",
   "execution_count": 16,
   "id": "86fecee4",
   "metadata": {},
   "outputs": [
    {
     "name": "stdout",
     "output_type": "stream",
     "text": [
      "Studentul cu numele: Ion <class '__main__.Student'>\n"
     ]
    }
   ],
   "source": [
    "# rb - read binary\n",
    "with open(\"fisier_binar.pkl\", \"rb\") as file_reader:\n",
    "    obiect_citit = pickle.load(file_reader)\n",
    "    print(obiect_citit, type(obiect_citit))"
   ]
  },
  {
   "cell_type": "code",
   "execution_count": null,
   "id": "f08f02bf",
   "metadata": {},
   "outputs": [],
   "source": []
  }
 ],
 "metadata": {
  "kernelspec": {
   "display_name": "Python 3",
   "language": "python",
   "name": "python3"
  },
  "language_info": {
   "codemirror_mode": {
    "name": "ipython",
    "version": 3
   },
   "file_extension": ".py",
   "mimetype": "text/x-python",
   "name": "python",
   "nbconvert_exporter": "python",
   "pygments_lexer": "ipython3",
   "version": "3.13.7"
  }
 },
 "nbformat": 4,
 "nbformat_minor": 5
}
