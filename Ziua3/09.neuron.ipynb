{
 "cells": [
  {
   "cell_type": "code",
   "execution_count": 2,
   "id": "51942774",
   "metadata": {},
   "outputs": [],
   "source": [
    "def f(x):\n",
    "    a = 1\n",
    "    b = 2 # ponderi    \n",
    "    return a * x + b "
   ]
  },
  {
   "cell_type": "code",
   "execution_count": 3,
   "id": "1c220597",
   "metadata": {},
   "outputs": [],
   "source": [
    "def and_classic(x1, x2):\n",
    "    return int(x1 and x2)"
   ]
  },
  {
   "cell_type": "code",
   "execution_count": 4,
   "id": "5c73979f",
   "metadata": {},
   "outputs": [
    {
     "name": "stdout",
     "output_type": "stream",
     "text": [
      "and_classic(0, 0) = 0\n",
      "and_classic(0, 1) = 0\n",
      "and_classic(1, 0) = 0\n",
      "and_classic(1, 1) = 1\n"
     ]
    }
   ],
   "source": [
    "for x1, x2 in [(0, 0), (0, 1), (1, 0), (1, 1)]:\n",
    "    print(f\"and_classic({x1}, {x2}) = {and_classic(x1, x2)}\")"
   ]
  },
  {
   "cell_type": "code",
   "execution_count": 5,
   "id": "f6e0728b",
   "metadata": {},
   "outputs": [
    {
     "name": "stdout",
     "output_type": "stream",
     "text": [
      "and_classic(False, False) = 0\n",
      "and_classic(False, True) = 0\n",
      "and_classic(True, False) = 0\n",
      "and_classic(True, True) = 1\n"
     ]
    }
   ],
   "source": [
    "for x1, x2 in [(False, False), (False, True), (True, False), (True, True)]:\n",
    "    print(f\"and_classic({x1}, {x2}) = {and_classic(x1, x2)}\")"
   ]
  },
  {
   "cell_type": "code",
   "execution_count": 19,
   "id": "012daea8",
   "metadata": {},
   "outputs": [],
   "source": [
    "def functie_activare(input):\n",
    "    return 0 if input < 0 else 1"
   ]
  },
  {
   "cell_type": "code",
   "execution_count": 20,
   "id": "69cc6d65",
   "metadata": {},
   "outputs": [],
   "source": [
    "def and_neuron(x1, x2):\n",
    "    w1 = 1\n",
    "    w2 = 1\n",
    "    b = -1.5 # bias\n",
    "    return  functie_activare( w1 * x1 + w2 * x2 + b)"
   ]
  },
  {
   "cell_type": "code",
   "execution_count": 21,
   "id": "9daebac7",
   "metadata": {},
   "outputs": [
    {
     "name": "stdout",
     "output_type": "stream",
     "text": [
      "and_classic(False, False) = 0\n",
      "and_classic(False, True) = 0\n",
      "and_classic(True, False) = 0\n",
      "and_classic(True, True) = 1\n"
     ]
    }
   ],
   "source": [
    "for x1, x2 in [(False, False), (False, True), (True, False), (True, True)]:\n",
    "    print(f\"and_classic({x1}, {x2}) = {and_neuron(x1, x2)}\")"
   ]
  },
  {
   "cell_type": "code",
   "execution_count": null,
   "id": "5da74966",
   "metadata": {},
   "outputs": [],
   "source": []
  }
 ],
 "metadata": {
  "kernelspec": {
   "display_name": "Python 3",
   "language": "python",
   "name": "python3"
  },
  "language_info": {
   "codemirror_mode": {
    "name": "ipython",
    "version": 3
   },
   "file_extension": ".py",
   "mimetype": "text/x-python",
   "name": "python",
   "nbconvert_exporter": "python",
   "pygments_lexer": "ipython3",
   "version": "3.13.7"
  }
 },
 "nbformat": 4,
 "nbformat_minor": 5
}
