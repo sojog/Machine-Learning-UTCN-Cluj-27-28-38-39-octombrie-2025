{
 "cells": [
  {
   "cell_type": "code",
   "execution_count": null,
   "id": "a78fb7f3",
   "metadata": {},
   "outputs": [],
   "source": [
    "date = {\n",
    "    \"Alina\": [60, 165, True],\n",
    "    \"Bogdan\": [72, 183, False],\n",
    "    \"Ciprian\": [69, 178, False],\n",
    "    \"Diana\": [55, 152, True],\n",
    "    \"Elena\": [58, 168, True],\n",
    "    \"Andrei\": [80, 185, False],\n",
    "    \"Mihai\": [75, 177, False],\n",
    "    \"Irina\": [62, 170, True],\n",
    "    \"Florin\": [90, 190, False],\n",
    "    \"Maria\": [53, 160, True],\n",
    "    \"Vlad\": [70, 175, False],\n",
    "    \"Ioana\": [50, 155, True],\n",
    "    \"Radu\": [68, 172, False],\n",
    "    \"Ana\": [59, 162, True],\n",
    "    \"George\": [85, 182, False],\n",
    "    \"Larisa\": [61, 167, True],\n",
    "    \"Stefan\": [78, 180, False],\n",
    "    \"Bianca\": [56, 158, True],\n",
    "    \"Paul\": [74, 176, False],\n",
    "    \"Oana\": [54, 163, True],\n",
    "    \"Cosmin\": [82, 188, False],\n",
    "    \"Teodora\": [57, 159, True],\n",
    "    \"Ionut\": [76, 181, False],\n",
    "    \"Gabriela\": [60, 164, True]\n",
    "}"
   ]
  }
 ],
 "metadata": {
  "kernelspec": {
   "display_name": "Python 3",
   "language": "python",
   "name": "python3"
  },
  "language_info": {
   "codemirror_mode": {
    "name": "ipython",
    "version": 3
   },
   "file_extension": ".py",
   "mimetype": "text/x-python",
   "name": "python",
   "nbconvert_exporter": "python",
   "pygments_lexer": "ipython3",
   "version": "3.13.3"
  }
 },
 "nbformat": 4,
 "nbformat_minor": 5
}
